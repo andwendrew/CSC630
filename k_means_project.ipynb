{
 "cells": [
  {
   "cell_type": "markdown",
   "id": "c50696c8",
   "metadata": {},
   "source": [
    "# Exploring the k-means clustering algorithm\n",
    "\n",
    "## Machine Learning, Fall 2021\n",
    "\n",
    "### Name: Andrew Wen\n",
    "\n",
    "### General Sources\n",
    "* https://www.analyticsvidhya.com/blog/2019/08/comprehensive-guide-k-means-clustering/\n",
    "* https://medium.com/nerd-for-tech/k-means-python-implementation-from-scratch-8400f30b8e5c\n",
    "* https://analyticsarora.com/k-means-for-beginners-how-to-build-from-scratch-in-python/"
   ]
  },
  {
   "cell_type": "markdown",
   "id": "ba8a33d7",
   "metadata": {},
   "source": [
    "In this notebook, we'll be exploring the process behind and attempting to implement parts of the famous $k$-means clustering algorithm. First, let's get down the basics behind the algorithm:"
   ]
  },
  {
   "cell_type": "markdown",
   "id": "89abda37",
   "metadata": {},
   "source": [
    "## The purpose and objective of the algorithm\n",
    "\n",
    "The purpose of the $k$-means clustering algorithm, given a dataset $N$ (the set of points on which the algorithm is to be performed) and an integer $k$, is to divide the data points in $N$ into $k$ clusters as \"best as possible\". "
   ]
  },
  {
   "attachments": {},
   "cell_type": "markdown",
   "id": "e510adf9",
   "metadata": {},
   "source": [
    "A clustering's \"goodness\" is defined by two things:\n",
    "<ul>\n",
    "<li> Intracluster distance - a clustering is better if the points in it are more similar to each other. A cluster's \"intracluster distance\" measures the sum of the distances from each point in that cluster to that cluster's centroid. The smaller a cluster's intracluster distance, the more similar the points in it are to each other, and the better that cluster is. </li> \n",
    "<li> Intercluster distance - a clustering is better if the clusters are well defined. That is, clusters are well separated from each other, else there is no reason two similar clusters cannot be combined into one cluster. The greater the intracluster distance between two clusters, the more well distinguished they are, which is indicative of a good clustering </li> \n",
    "</ul>\n",
    "In general, a clustering is better the smaller the intracluster distances of each cluster and the larger the pairwise intercluster distances. In fact, there is a mathematical formula called the Dunn Index that reflects the optimality of a clustering:$$$$\n",
    "$$\\text{Dunn Index} = \\frac{\\min(\\text{Intercluster distance}) \\text{ across all Pairs of Clusters}}{\\max(\\text{Intracluster distances}) \\text{ across all Clusters}}$$\n",
    "$$$$\n",
    "The greater the Dunn Index, the better the clustering - indeed, as a check, note that increasing Intercluster distances increases the numerator of the Dunn index, and that decreasing Intracluster distances decreases the numerator of the Dunn Index, both of which increase the Dunn index. "
   ]
  },
  {
   "cell_type": "markdown",
   "id": "1a134fa9",
   "metadata": {},
   "source": [
    "So why do we pick the Dunn Index and not some other measure of goodness? There are other common metrics of \"goodness\" such as\n",
    "<ul>\n",
    "<li> sum of squares of each point to closest centroid </li> \n",
    "<li> sum of squares of pairwise distances of centroids </li> \n",
    "</ul>\n",
    "though none of these work as well as the Dunn Index, since the former only depends on intracluster distances while the latter only depends on intercluster distances. "
   ]
  },
  {
   "cell_type": "markdown",
   "id": "9eb28894",
   "metadata": {},
   "source": [
    "Now, we create some functions to help with the computation of Intercluster and Intracluster distances:"
   ]
  },
  {
   "cell_type": "code",
   "execution_count": 3,
   "id": "dbc95ba6",
   "metadata": {},
   "outputs": [],
   "source": [
    "import numpy as np\n",
    "import matplotlib.pyplot as plt"
   ]
  },
  {
   "cell_type": "code",
   "execution_count": 9,
   "id": "89419b8a",
   "metadata": {},
   "outputs": [],
   "source": [
    "# This is the distance function, calculates the distance between two points. \n",
    "\n",
    "def distance(X, Y):\n",
    "    sum = 0\n",
    "    for i in range (0, len(X)):\n",
    "        sum = sum + (X[i] - Y[i])**2    \n",
    "    sum = np.sqrt(sum)\n",
    "    return sum                "
   ]
  },
  {
   "cell_type": "code",
   "execution_count": 70,
   "id": "0103e48c",
   "metadata": {},
   "outputs": [],
   "source": [
    "# This is the Intracluster distance formula, given a cluster of points. \n",
    "\n",
    "def intracluster(X):\n",
    "    n, d = np.shape(X)\n",
    "    \n",
    "    centroid = np.zeros(d)\n",
    "    for i in range(0, n):\n",
    "        centroid = centroid + X[i]\n",
    "    centroid = centroid * 1/n\n",
    "    \n",
    "    sum = 0\n",
    "    for i in range(0, n):\n",
    "        sum = sum + distance(centroid, X[i])\n",
    "    return sum\n",
    "    "
   ]
  },
  {
   "cell_type": "code",
   "execution_count": 71,
   "id": "dc15be75",
   "metadata": {},
   "outputs": [],
   "source": [
    "# This is the Intercluster distance formula, given two clusters.\n",
    "\n",
    "def intercluster(X, Y):\n",
    "    n_X, d_X = np.shape(X)\n",
    "    n_Y, d_Y = np.shape(Y)\n",
    "    \n",
    "    centroid_X = np.zeros(d_X)\n",
    "    for i in range(0, n_X):\n",
    "        centroid_X = centroid_X + X[i]\n",
    "    centroid_X = centroid_X * 1/n_X\n",
    "    \n",
    "    centroid_Y = np.zeros(d_Y)\n",
    "    for i in range(0, n_Y):\n",
    "        centroid_Y = centroid_Y + Y[i]\n",
    "    centroid_Y = centroid_Y * 1/n_Y\n",
    "    \n",
    "    return distance(centroid_X, centroid_Y)"
   ]
  },
  {
   "cell_type": "code",
   "execution_count": 92,
   "id": "bbdf2b76",
   "metadata": {},
   "outputs": [],
   "source": [
    "# This is the Dunn Index, given a clustering X\n",
    "\n",
    "def dunn_index(X):\n",
    "    n = len(X)\n",
    "    \n",
    "    maxindex = 0\n",
    "    for i in range (0, n):\n",
    "        if intracluster(X[i]) > intracluster(X[maxindex]):\n",
    "            maxindex = i\n",
    "    \n",
    "    mindex_x = 0\n",
    "    mindex_y = 1\n",
    "    for i in range(0, n):\n",
    "        for j in range(0, i):\n",
    "            if intercluster(X[i], X[j]) < intercluster(X[mindex_x], X[mindex_y]):\n",
    "                mindex_x = i\n",
    "                mindex_y = j\n",
    "                \n",
    "    ans = intercluster(X[mindex_x], X[mindex_y]) / intracluster(X[maxindex])\n",
    "    return ans"
   ]
  },
  {
   "cell_type": "markdown",
   "id": "110faf73",
   "metadata": {},
   "source": [
    "After creating all relevant methods, let's actually apply them to an example clustering dataset (that is, one that has already been pre-clustered by some methods we do not know, and we are simply evaluating the \"goodness\" of this already made clustering):"
   ]
  },
  {
   "cell_type": "code",
   "execution_count": 118,
   "id": "27010fb1",
   "metadata": {},
   "outputs": [
    {
     "data": {
      "image/png": "[encoded data removed]",
      "text/plain": [
       "<Figure size 1080x1080 with 1 Axes>"
      ]
     },
     "metadata": {
      "needs_background": "light"
     },
     "output_type": "display_data"
    }
   ],
   "source": [
    "xs = [-1, -1, 1, 1, 5, 5, 5, 5, -5, -4, -4, -3]\n",
    "ys = [1, -1, -1, 1, 0, 1, 3, 4, -4, -4, -2, -2]\n",
    "colors = ['m', 'm', 'm', 'm', 'g', 'g', 'g', 'g', 'r', 'r', 'r', 'r']\n",
    "\n",
    "xmin, xmax, ymin, ymax = -5, 5, -5, 5\n",
    "ticks_frequency = 1\n",
    "\n",
    "fig, ax = plt.subplots(figsize=(15, 15))\n",
    "ax.scatter(xs, ys, c=colors)\n",
    "\n",
    "plt.show()"
   ]
  },
  {
   "cell_type": "markdown",
   "id": "8e429573",
   "metadata": {},
   "source": [
    "Looking at the above clustering (as indicated by the colors), intuitively, this seems to be a good clustering, as it does seem that similarly located points belong to the same cluster. Let's comupte the Dunn index of this clustering:"
   ]
  },
  {
   "cell_type": "code",
   "execution_count": 102,
   "id": "50ea143c",
   "metadata": {},
   "outputs": [
    {
     "name": "stdout",
     "output_type": "stream",
     "text": [
      "0.8333333333333334\n"
     ]
    }
   ],
   "source": [
    "cluster_m = []\n",
    "cluster_g = []\n",
    "cluster_r = []\n",
    "\n",
    "for i in range(0, 12):\n",
    "    if colors[i] == 'm':\n",
    "        cluster_m.append([xs[i], ys[i]])\n",
    "    elif colors[i] == 'g':\n",
    "        cluster_g.append([xs[i], ys[i]])\n",
    "    elif colors[i] == 'r':\n",
    "        cluster_r.append([xs[i], ys[i]])\n",
    "\n",
    "clustering = []\n",
    "clustering.append(cluster_m)\n",
    "clustering.append(cluster_g)\n",
    "clustering.append(cluster_r)\n",
    "\n",
    "print(dunn_index(clustering))"
   ]
  },
  {
   "cell_type": "markdown",
   "id": "0cad777b",
   "metadata": {},
   "source": [
    "Now, what if we tweak the clustering a little bit by moving the rightmost points of the red cluster to the magenta cluster?"
   ]
  },
  {
   "cell_type": "code",
   "execution_count": 117,
   "id": "f3d7e314",
   "metadata": {},
   "outputs": [
    {
     "data": {
      "image/png": "[encoded data removed]",
      "text/plain": [
       "<Figure size 1080x1080 with 1 Axes>"
      ]
     },
     "metadata": {
      "needs_background": "light"
     },
     "output_type": "display_data"
    }
   ],
   "source": [
    "xs = [-1, -1, 1, 1, 5, 5, 5, 5, -5, -4, -4, -3]\n",
    "ys = [1, -1, -1, 1, 0, 1, 3, 4, -4, -4, -2, -2]\n",
    "colors = ['m', 'm', 'm', 'm', 'g', 'g', 'g', 'g', 'r', 'r', 'r', 'm']\n",
    "\n",
    "xmin, xmax, ymin, ymax = -5, 5, -5, 5\n",
    "ticks_frequency = 1\n",
    "\n",
    "fig, ax = plt.subplots(figsize=(15, 15))\n",
    "ax.scatter(xs, ys, c=colors)\n",
    "\n",
    "plt.show()"
   ]
  },
  {
   "cell_type": "markdown",
   "id": "5cefc211",
   "metadata": {},
   "source": [
    "The new Dunn Index would be:"
   ]
  },
  {
   "cell_type": "code",
   "execution_count": 110,
   "id": "fe02c8c1",
   "metadata": {},
   "outputs": [
    {
     "name": "stdout",
     "output_type": "stream",
     "text": [
      "0.5336836617282176\n"
     ]
    }
   ],
   "source": [
    "cluster_m = []\n",
    "cluster_g = []\n",
    "cluster_r = []\n",
    "\n",
    "for i in range(0, 12):\n",
    "    if colors[i] == 'm':\n",
    "        cluster_m.append([xs[i], ys[i]])\n",
    "    elif colors[i] == 'g':\n",
    "        cluster_g.append([xs[i], ys[i]])\n",
    "    elif colors[i] == 'r':\n",
    "        cluster_r.append([xs[i], ys[i]])\n",
    "\n",
    "clustering = []\n",
    "clustering.append(cluster_m)\n",
    "clustering.append(cluster_g)\n",
    "clustering.append(cluster_r)\n",
    "\n",
    "print(dunn_index(clustering))"
   ]
  },
  {
   "cell_type": "markdown",
   "id": "ac59054e",
   "metadata": {},
   "source": [
    "We see that making such a tweak results in a clustering with a lower Dunn Index, which is implied to be \"worse\"."
   ]
  },
  {
   "cell_type": "markdown",
   "id": "dbcb2102",
   "metadata": {},
   "source": [
    "## The logic behind the algorithm\n",
    "\n",
    "Now, after we have rigorously defined how to tell whether a clustering is \"better\" than another, how do we, given nothing but a dataset full of points and the number of clusters we wish to create, reach the clustering with the best possible Dunn Index? "
   ]
  },
  {
   "cell_type": "markdown",
   "id": "5ca4fefe",
   "metadata": {},
   "source": [
    "The $k$-means clustering algorithm follows the following steps:\n",
    "\n",
    "1. Select $k$ points randomly to be the centroids of the $k$ clusters. \n",
    "2. Assign each point from the dataset to the centroid it is closest to, and let each centroid along with the points assigned to it form the clusters.\n",
    "3. After establishing the clusters, we compute the centroids of each cluster, and repeat step 2 until the clusters converge/become constant. "
   ]
  },
  {
   "cell_type": "code",
   "execution_count": null,
   "id": "59fed350",
   "metadata": {},
   "outputs": [],
   "source": []
  }
 ],
 "metadata": {
  "kernelspec": {
   "display_name": "Python 3",
   "language": "python",
   "name": "python3"
  },
  "language_info": {
   "codemirror_mode": {
    "name": "ipython",
    "version": 3
   },
   "file_extension": ".py",
   "mimetype": "text/x-python",
   "name": "python",
   "nbconvert_exporter": "python",
   "pygments_lexer": "ipython3",
   "version": "3.8.8"
  }
 },
 "nbformat": 4,
 "nbformat_minor": 5
}
