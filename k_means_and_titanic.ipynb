{
 "cells": [
  {
   "cell_type": "markdown",
   "id": "c50696c8",
   "metadata": {},
   "source": [
    "# Exploring the k-means clustering algorithm\n",
    "\n",
    "## Machine Learning, Fall 2021\n",
    "\n",
    "### Name: Andrew Wen\n",
    "\n",
    "### General Sources\n",
    "* https://www.analyticsvidhya.com/blog/2019/08/comprehensive-guide-k-means-clustering/\n",
    "* https://medium.com/nerd-for-tech/k-means-python-implementation-from-scratch-8400f30b8e5c\n",
    "* https://analyticsarora.com/k-means-for-beginners-how-to-build-from-scratch-in-python/\n",
    "* https://www.datacamp.com/community/tutorials/k-means-clustering-python\n"
   ]
  },
  {
   "cell_type": "markdown",
   "id": "ba8a33d7",
   "metadata": {},
   "source": [
    "In this notebook, we'll be exploring the process behind and attempting to implement parts of the famous $k$-means clustering algorithm. First, let's get down the basics behind the algorithm:"
   ]
  },
  {
   "cell_type": "markdown",
   "id": "ad77700d",
   "metadata": {},
   "source": [
    "## The purpose and objective of the algorithm\n",
    "\n",
    "The purpose of the $k$-means clustering algorithm, given a dataset $N$ (the set of points on which the algorithm is to be performed) and an integer $k$, is to divide the data points in $N$ into $k$ clusters as \"best as possible\". "
   ]
  },
  {
   "cell_type": "markdown",
   "id": "5600e543",
   "metadata": {},
   "source": [
    "A clustering's \"goodness\" is defined by two things:\n",
    "<ul>\n",
    "<li> Intracluster distance - a clustering is better if the points in it are more similar to each other. A cluster's \"intracluster distance\" measures the sum of the distances from each point in that cluster to that cluster's centroid. The smaller a cluster's intracluster distance, the more similar the points in it are to each other, and the better that cluster is. </li> \n",
    "<li> Intercluster distance - a clustering is better if the clusters are well defined. That is, clusters are well separated from each other, else there is no reason two similar clusters cannot be combined into one cluster. The greater the intracluster distance between two clusters, the more well distinguished they are, which is indicative of a good clustering </li> \n",
    "</ul>\n",
    "In general, a clustering is better the smaller the intracluster distances of each cluster and the larger the pairwise intercluster distances. In fact, there is a mathematical formula called the Dunn Index that reflects the optimality of a clustering:$$$$\n",
    "$$\\text{Dunn Index} = \\frac{\\min(\\text{Intercluster distance}) \\text{ across all Pairs of Clusters}}{\\max(\\text{Intracluster distances}) \\text{ across all Clusters}}$$\n",
    "$$$$\n",
    "The greater the Dunn Index, the better the clustering - indeed, as a check, note that increasing Intercluster distances increases the numerator of the Dunn index, and that decreasing Intracluster distances decreases the numerator of the Dunn Index, both of which increase the Dunn index. "
   ]
  },
  {
   "cell_type": "markdown",
   "id": "8582371f",
   "metadata": {},
   "source": [
    "So why do we pick the Dunn Index and not some other measure of goodness? There are other common metrics of \"goodness\" such as\n",
    "<ul>\n",
    "<li> sum of squares of each point to closest centroid </li> \n",
    "<li> sum of squares of pairwise distances of centroids </li> \n",
    "</ul>\n",
    "though none of these work as well as the Dunn Index, since the former only depends on intracluster distances while the latter only depends on intercluster distances. "
   ]
  },
  {
   "cell_type": "markdown",
   "id": "42ada3da",
   "metadata": {},
   "source": [
    "Now, we create some functions to help with the computation of Intercluster and Intracluster distances:"
   ]
  },
  {
   "cell_type": "code",
   "execution_count": 1,
   "id": "865f30b2",
   "metadata": {},
   "outputs": [],
   "source": [
    "import numpy as np\n",
    "import matplotlib.pyplot as plt"
   ]
  },
  {
   "cell_type": "code",
   "execution_count": 2,
   "id": "36e078ad",
   "metadata": {},
   "outputs": [],
   "source": [
    "# This is the distance function, calculates the distance between two points. \n",
    "\n",
    "def distance(X, Y):\n",
    "    sum = 0\n",
    "    for i in range (0, len(X)):\n",
    "        sum = sum + (X[i] - Y[i])**2    \n",
    "    sum = np.sqrt(sum)\n",
    "    return sum                "
   ]
  },
  {
   "cell_type": "code",
   "execution_count": 3,
   "id": "731f6c03",
   "metadata": {},
   "outputs": [],
   "source": [
    "# This is the Intracluster distance formula, given a cluster of points. \n",
    "\n",
    "def intracluster(X):\n",
    "    n, d = np.shape(X)\n",
    "    \n",
    "    centroid = np.zeros(d)\n",
    "    for i in range(0, n):\n",
    "        centroid = centroid + X[i]\n",
    "    centroid = centroid * 1/n\n",
    "    \n",
    "    sum = 0\n",
    "    for i in range(0, n):\n",
    "        sum = sum + distance(centroid, X[i])\n",
    "    return sum\n",
    "    "
   ]
  },
  {
   "cell_type": "code",
   "execution_count": 4,
   "id": "8d28d6cb",
   "metadata": {},
   "outputs": [],
   "source": [
    "# This is the Intercluster distance formula, given two clusters.\n",
    "\n",
    "def intercluster(X, Y):\n",
    "    n_X, d_X = np.shape(X)\n",
    "    n_Y, d_Y = np.shape(Y)\n",
    "    \n",
    "    centroid_X = np.zeros(d_X)\n",
    "    for i in range(0, n_X):\n",
    "        centroid_X = centroid_X + X[i]\n",
    "    centroid_X = centroid_X * 1/n_X\n",
    "    \n",
    "    centroid_Y = np.zeros(d_Y)\n",
    "    for i in range(0, n_Y):\n",
    "        centroid_Y = centroid_Y + Y[i]\n",
    "    centroid_Y = centroid_Y * 1/n_Y\n",
    "    \n",
    "    return distance(centroid_X, centroid_Y)"
   ]
  },
  {
   "cell_type": "code",
   "execution_count": 5,
   "id": "efc7e1ed",
   "metadata": {},
   "outputs": [],
   "source": [
    "# This is the Dunn Index, given a clustering X\n",
    "\n",
    "def dunn_index(X):\n",
    "    n = len(X)\n",
    "    \n",
    "    maxindex = 0\n",
    "    for i in range (0, n):\n",
    "        if intracluster(X[i]) > intracluster(X[maxindex]):\n",
    "            maxindex = i\n",
    "    \n",
    "    mindex_x = 0\n",
    "    mindex_y = 1\n",
    "    for i in range(0, n):\n",
    "        for j in range(0, i):\n",
    "            if intercluster(X[i], X[j]) < intercluster(X[mindex_x], X[mindex_y]):\n",
    "                mindex_x = i\n",
    "                mindex_y = j\n",
    "                \n",
    "    ans = intercluster(X[mindex_x], X[mindex_y]) / intracluster(X[maxindex])\n",
    "    return ans"
   ]
  },
  {
   "cell_type": "markdown",
   "id": "9503c1ea",
   "metadata": {},
   "source": [
    "After creating all relevant methods, let's actually apply them to an example clustering dataset (that is, one that has already been pre-clustered by some methods we do not know, and we are simply evaluating the \"goodness\" of this already made clustering):"
   ]
  },
  {
   "cell_type": "code",
   "execution_count": 6,
   "id": "13e032c3",
   "metadata": {},
   "outputs": [
    {
     "data": {
      "image/png": "[encoded data removed]",
      "text/plain": [
       "<Figure size 1080x1080 with 1 Axes>"
      ]
     },
     "metadata": {
      "needs_background": "light"
     },
     "output_type": "display_data"
    }
   ],
   "source": [
    "xs = [-1, -1, 1, 1, 5, 5, 5, 5, -5, -4, -4, -3]\n",
    "ys = [1, -1, -1, 1, 0, 1, 3, 4, -4, -4, -2, -2]\n",
    "colors = ['m', 'm', 'm', 'm', 'g', 'g', 'g', 'g', 'r', 'r', 'r', 'r']\n",
    "\n",
    "xmin, xmax, ymin, ymax = -5, 5, -5, 5\n",
    "ticks_frequency = 1\n",
    "\n",
    "fig, ax = plt.subplots(figsize=(15, 15))\n",
    "ax.scatter(xs, ys, c=colors)\n",
    "\n",
    "plt.show()"
   ]
  },
  {
   "cell_type": "markdown",
   "id": "2058a707",
   "metadata": {},
   "source": [
    "Looking at the above clustering (as indicated by the colors), intuitively, this seems to be a good clustering, as it does seem that similarly located points belong to the same cluster. Let's comupte the Dunn index of this clustering:"
   ]
  },
  {
   "cell_type": "code",
   "execution_count": 7,
   "id": "c05d4111",
   "metadata": {},
   "outputs": [
    {
     "name": "stdout",
     "output_type": "stream",
     "text": [
      "0.8333333333333334\n"
     ]
    }
   ],
   "source": [
    "cluster_m = []\n",
    "cluster_g = []\n",
    "cluster_r = []\n",
    "\n",
    "for i in range(0, 12):\n",
    "    if colors[i] == 'm':\n",
    "        cluster_m.append([xs[i], ys[i]])\n",
    "    elif colors[i] == 'g':\n",
    "        cluster_g.append([xs[i], ys[i]])\n",
    "    elif colors[i] == 'r':\n",
    "        cluster_r.append([xs[i], ys[i]])\n",
    "\n",
    "clustering = []\n",
    "clustering.append(cluster_m)\n",
    "clustering.append(cluster_g)\n",
    "clustering.append(cluster_r)\n",
    "\n",
    "print(dunn_index(clustering))"
   ]
  },
  {
   "cell_type": "markdown",
   "id": "4e99af17",
   "metadata": {},
   "source": [
    "Now, what if we tweak the clustering a little bit by moving the rightmost points of the red cluster to the magenta cluster?"
   ]
  },
  {
   "cell_type": "code",
   "execution_count": 8,
   "id": "94474d2e",
   "metadata": {},
   "outputs": [
    {
     "data": {
      "image/png": "[encoded data removed]",
      "text/plain": [
       "<Figure size 1080x1080 with 1 Axes>"
      ]
     },
     "metadata": {
      "needs_background": "light"
     },
     "output_type": "display_data"
    }
   ],
   "source": [
    "xs = [-1, -1, 1, 1, 5, 5, 5, 5, -5, -4, -4, -3]\n",
    "ys = [1, -1, -1, 1, 0, 1, 3, 4, -4, -4, -2, -2]\n",
    "colors = ['m', 'm', 'm', 'm', 'g', 'g', 'g', 'g', 'r', 'r', 'r', 'm']\n",
    "\n",
    "xmin, xmax, ymin, ymax = -5, 5, -5, 5\n",
    "ticks_frequency = 1\n",
    "\n",
    "fig, ax = plt.subplots(figsize=(15, 15))\n",
    "ax.scatter(xs, ys, c=colors)\n",
    "\n",
    "plt.show()"
   ]
  },
  {
   "cell_type": "markdown",
   "id": "9563520a",
   "metadata": {},
   "source": [
    "The new Dunn Index would be:"
   ]
  },
  {
   "cell_type": "code",
   "execution_count": 9,
   "id": "c1fa7a0f",
   "metadata": {},
   "outputs": [
    {
     "name": "stdout",
     "output_type": "stream",
     "text": [
      "0.5336836617282176\n"
     ]
    }
   ],
   "source": [
    "cluster_m = []\n",
    "cluster_g = []\n",
    "cluster_r = []\n",
    "\n",
    "for i in range(0, 12):\n",
    "    if colors[i] == 'm':\n",
    "        cluster_m.append([xs[i], ys[i]])\n",
    "    elif colors[i] == 'g':\n",
    "        cluster_g.append([xs[i], ys[i]])\n",
    "    elif colors[i] == 'r':\n",
    "        cluster_r.append([xs[i], ys[i]])\n",
    "\n",
    "clustering = []\n",
    "clustering.append(cluster_m)\n",
    "clustering.append(cluster_g)\n",
    "clustering.append(cluster_r)\n",
    "\n",
    "print(dunn_index(clustering))"
   ]
  },
  {
   "cell_type": "markdown",
   "id": "1dee224c",
   "metadata": {},
   "source": [
    "We see that making such a tweak results in a clustering with a lower Dunn Index, which is implied to be \"worse\"."
   ]
  },
  {
   "cell_type": "markdown",
   "id": "c41acc96",
   "metadata": {},
   "source": [
    "## The logic behind the algorithm\n",
    "\n",
    "Now, after we have rigorously defined how to tell whether a clustering is \"better\" than another, how do we, given nothing but a dataset full of points and the number of clusters we wish to create, reach the clustering with the best possible Dunn Index? "
   ]
  },
  {
   "cell_type": "markdown",
   "id": "78895693",
   "metadata": {},
   "source": [
    "The $k$-means clustering algorithm follows the following steps:\n",
    "\n",
    "1. Select $k$ points randomly to be the centroids of the $k$ clusters. \n",
    "2. Assign each point from the dataset to the centroid it is closest to, and let each centroid along with the points assigned to it form the clusters.\n",
    "3. After establishing the clusters, we compute the centroids of each cluster, and repeat step 2 until the clusters converge/become constant. "
   ]
  },
  {
   "cell_type": "markdown",
   "id": "723e4e27",
   "metadata": {},
   "source": [
    "To simplify our implementation of the $k$-means algorithm, we one more method:"
   ]
  },
  {
   "cell_type": "code",
   "execution_count": 10,
   "id": "dfa036ca",
   "metadata": {},
   "outputs": [],
   "source": [
    "def closest_index(x, X): # takes in point x and array X of points, returns index of point in X closest to x\n",
    "    n = len(X)\n",
    "    index = 0\n",
    "    for i in range(0, n):\n",
    "        if distance(x, X[i]) < distance(x, X[index]):\n",
    "            index = i\n",
    "    return index"
   ]
  },
  {
   "cell_type": "markdown",
   "id": "a55dee24",
   "metadata": {},
   "source": [
    "Now, the actual class:"
   ]
  },
  {
   "cell_type": "code",
   "execution_count": 11,
   "id": "e3c01589",
   "metadata": {},
   "outputs": [],
   "source": [
    "import math\n",
    "import numpy as np\n",
    "import matplotlib.pyplot as plt\n",
    "\n",
    "class k_means_clustering():\n",
    "    \n",
    "    def __init__(self) :        \n",
    "        pass\n",
    "        \n",
    "    def fit(self, X, k): # fit to a dataset X to k clusters\n",
    "        self.clustering = []\n",
    "        n, d = np.shape(X) # n counts the number of data points in X, and d is dimension of the data points in X\n",
    "        \n",
    "        centroids = [] # create the centroids array \n",
    "        clusters = [] # create the set of clusters\n",
    "        \n",
    "        for i in range(0, k):\n",
    "            clusters.append([]) # here, we are creating the k clusters and setting them to initially be empty\n",
    "            centroids.append(X[i]) # here, we just set the initial array of centroids to be the first k points. \n",
    "        \n",
    "        centroids = np.array(centroids)\n",
    "        \n",
    "        count = 1\n",
    "        while True: \n",
    "            print(\"Iteration: \" + f'{count}') \n",
    "            print(\"Our centroids are:\")\n",
    "            print(centroids)\n",
    "            for i in range(0, n): # assigning each point to a cluster based on the centroid it is closest to\n",
    "                clusters[closest_index(X[i], centroids)].append(X[i]) # for each X[i] in X, get index of centroid it is closest to, and add X[i]\n",
    "                \n",
    "            clustering_initial = []\n",
    "            for i in range(0, k):\n",
    "                clustering_initial.append(clusters[i])\n",
    "            print(\"Our clusters are:\")\n",
    "            print(clustering_initial)\n",
    "            print(\"The Dunn Index of this clustering is: \" + f'{dunn_index(clustering_initial)}')\n",
    "            \n",
    "            for i in range(0, k): # get new centroids\n",
    "                centroid = np.zeros(d)\n",
    "                for j in range(0, len(clusters[i])):\n",
    "                    centroid = centroid + clusters[i][j]\n",
    "                centroid = centroid * 1/len(clusters[i])\n",
    "                centroids[i] = centroid\n",
    "            \n",
    "            for i in range(0, k): # reset the clusters\n",
    "                clusters[i] = []\n",
    "            \n",
    "            for i in range(0, n): # get new clustering from new centroids\n",
    "                clusters[closest_index(X[i], centroids)].append(X[i]) # for each X[i] in X, get index of centroid it is closest to, and add X[i]\n",
    "           \n",
    "            if clusters == clustering_initial: # break out of loop if upon update nothing changes\n",
    "                break\n",
    "            \n",
    "            for i in range(0, k): # reset the clusters\n",
    "                clusters[i] = []\n",
    "                \n",
    "            count = count + 1\n",
    "            print('------------------------------------')\n",
    "            \n",
    "        self.clustering = clustering_initial\n",
    "        return self.clustering\n",
    "    \n",
    "    def predict(self, X, k): # run only after having run the fit method, this returns the cluster number for each point\n",
    "        array = []\n",
    "        n, d = np.shape(X)\n",
    "        for i in range (0, n):\n",
    "            for j in range(0, k):\n",
    "                if(X[i] in self.clustering[j]):\n",
    "                    array.append(j) \n",
    "        return np.array(array)\n",
    "        \n",
    "# the fit method successfully implements the logic behind the k-means algorithm    "
   ]
  },
  {
   "cell_type": "markdown",
   "id": "7e4ed6a1",
   "metadata": {},
   "source": [
    "Now let's test the class out on an example dataset: $$X = ([-1, -2], [-0, -3], [0, 0], [1, 1], [3, 1], [-1, 2], [10, 11], [9, 11], [7, 8], [8, 10], [-10, -3], [-7, -4], [-9, -2]).$$A plot of the data looks like this:"
   ]
  },
  {
   "cell_type": "code",
   "execution_count": 12,
   "id": "00e49b7e",
   "metadata": {
    "scrolled": false
   },
   "outputs": [
    {
     "data": {
      "image/png": "[encoded data removed]",
      "text/plain": [
       "<Figure size 1080x1080 with 1 Axes>"
      ]
     },
     "metadata": {
      "needs_background": "light"
     },
     "output_type": "display_data"
    }
   ],
   "source": [
    "X = [[-1, -2], [-0, -3], [0, 0], [1, 1], [3, 1], [-1, 2], [10, 11], [9, 11], [7, 8], [8, 10], [-10, -3], [-7, -4], [-9, -2]]\n",
    "\n",
    "xs = [element[0] for element in X] # creating x-coordinate array\n",
    "ys = [element[1] for element in X] # creating y-coordinate array\n",
    "\n",
    "xmin, xmax, ymin, ymax = -12, 12, -12, 12\n",
    "ticks_frequency = 1\n",
    "\n",
    "fig, ax = plt.subplots(figsize=(15, 15))\n",
    "ax.scatter(xs, ys)\n",
    "\n",
    "plt.show()"
   ]
  },
  {
   "cell_type": "markdown",
   "id": "0563b586",
   "metadata": {},
   "source": [
    "Now let's run the fit method on this dataset:"
   ]
  },
  {
   "cell_type": "code",
   "execution_count": 13,
   "id": "6b903bb8",
   "metadata": {},
   "outputs": [
    {
     "name": "stdout",
     "output_type": "stream",
     "text": [
      "Iteration: 1\n",
      "Our centroids are:\n",
      "[[-1 -2]\n",
      " [ 0 -3]\n",
      " [ 0  0]]\n",
      "Our clusters are:\n",
      "[[[-1, -2], [-10, -3], [-7, -4], [-9, -2]], [[0, -3]], [[0, 0], [1, 1], [3, 1], [-1, 2], [10, 11], [9, 11], [7, 8], [8, 10]]]\n",
      "The Dunn Index of this clustering is: 0.14023807154809617\n",
      "------------------------------------\n",
      "Iteration: 2\n",
      "Our centroids are:\n",
      "[[-6 -2]\n",
      " [ 0 -3]\n",
      " [ 4  5]]\n",
      "Our clusters are:\n",
      "[[[-10, -3], [-7, -4], [-9, -2]], [[-1, -2], [0, -3], [0, 0], [1, 1], [-1, 2]], [[3, 1], [10, 11], [9, 11], [7, 8], [8, 10]]]\n",
      "The Dunn Index of this clustering is: 0.49678285951821655\n",
      "------------------------------------\n",
      "Iteration: 3\n",
      "Our centroids are:\n",
      "[[-8 -3]\n",
      " [ 0  0]\n",
      " [ 7  8]]\n",
      "Our clusters are:\n",
      "[[[-10, -3], [-7, -4], [-9, -2]], [[-1, -2], [0, -3], [0, 0], [1, 1], [3, 1], [-1, 2]], [[10, 11], [9, 11], [7, 8], [8, 10]]]\n",
      "The Dunn Index of this clustering is: 0.7676756263772133\n"
     ]
    },
    {
     "data": {
      "text/plain": [
       "[[[-10, -3], [-7, -4], [-9, -2]],\n",
       " [[-1, -2], [0, -3], [0, 0], [1, 1], [3, 1], [-1, 2]],\n",
       " [[10, 11], [9, 11], [7, 8], [8, 10]]]"
      ]
     },
     "execution_count": 13,
     "metadata": {},
     "output_type": "execute_result"
    }
   ],
   "source": [
    "model = k_means_clustering()\n",
    "model.fit(X, 3)"
   ]
  },
  {
   "cell_type": "markdown",
   "id": "47d2e0d2",
   "metadata": {},
   "source": [
    "Now let's run the predict method, which tells us among the original dataset $X$, which cluster each point lies in:"
   ]
  },
  {
   "cell_type": "code",
   "execution_count": 14,
   "id": "3798ab91",
   "metadata": {},
   "outputs": [
    {
     "data": {
      "text/plain": [
       "array([1, 1, 1, 1, 1, 1, 2, 2, 2, 2, 0, 0, 0])"
      ]
     },
     "execution_count": 14,
     "metadata": {},
     "output_type": "execute_result"
    }
   ],
   "source": [
    "model.predict(X, 3)"
   ]
  },
  {
   "cell_type": "markdown",
   "id": "18f7a951",
   "metadata": {},
   "source": [
    "Now that we have written our own version of the k-means algorithm from scratch, just as any responsible programmer should do, we should reflect on the ethical implications on our algorithm.\n",
    "\n",
    "After reading this article, https://sitn.hms.harvard.edu/flash/2020/racial-discrimination-in-face-recognition-technology/, I have been made aware of some possible problematic situations (more specifically, situations involving facial recognition and people categorization) that can arise from using clustering algorithms carelessly. \n",
    "\n",
    "Clustering algorithms play an important role in facial recognition softwares; after all, facial recognitions softwares are usually used to ID people, and are sometimes used to group people who are perceived to be from a similar racial/ethnic group. This is problematic, because uncareful uses of clustering like such can end up dehumanizing and sort of categorizing different people into the same group, which erases their sense of individualism. It can also lead to harmful stereotypes, such as Asian people having small eyes. \n",
    "\n",
    "Not only can uncareful clustering lead to stereotypes and erasure of individualism, more pressing issues involve how the training data for such a facial clustering algorithm can be obtained. A lot of surveillance systems obtain images of people's faces without their consent (especially in order to train facial recognition systems, which is surely illegal. \n",
    "\n",
    "Therefore, after being exposed to such issues with potentially unethical uses of clustering in the real world, I now have a better understanding of my own algorithm. \n"
   ]
  },
  {
   "cell_type": "markdown",
   "id": "aaf4afa2",
   "metadata": {},
   "source": [
    "# Examining the Titanic Survivor Dataset\n",
    "\n",
    "## Machine Learning, Fall 2021\n",
    "\n",
    "### General Sources\n",
    "* https://www.datacamp.com/community/tutorials/k-means-clustering-python\n",
    "* https://www.kaggle.com/timbaney1989/titanic-correlation-map-and-machine-learning\n",
    "\n",
    "Now let's move onto something different and import a dataset from https://www.datacamp.com/community/tutorials/k-means-clustering-python (interesting, it is actually a survival dataset from the titanic crash) which we will examine:"
   ]
  },
  {
   "cell_type": "code",
   "execution_count": 31,
   "id": "bdb0824d",
   "metadata": {},
   "outputs": [],
   "source": [
    "import pandas as pd\n",
    "import numpy as np\n",
    "from sklearn.cluster import KMeans\n",
    "from sklearn.preprocessing import LabelEncoder\n",
    "from sklearn.preprocessing import MinMaxScaler\n",
    "import seaborn as sns\n",
    "import matplotlib.pyplot as plt\n",
    "\n",
    "train_url = \"http://s3.amazonaws.com/assets.datacamp.com/course/Kaggle/train.csv\"\n",
    "train = pd.read_csv(train_url) # read in training data\n",
    "test_url = \"http://s3.amazonaws.com/assets.datacamp.com/course/Kaggle/test.csv\"\n",
    "test = pd.read_csv(test_url) # read in testing data"
   ]
  },
  {
   "cell_type": "markdown",
   "id": "ed68bbf0",
   "metadata": {},
   "source": [
    "Before we do any clustering, it would be a wise idea to see what the data in this dataset actually means/represents. "
   ]
  },
  {
   "cell_type": "code",
   "execution_count": 32,
   "id": "cd6cdd07",
   "metadata": {},
   "outputs": [
    {
     "name": "stdout",
     "output_type": "stream",
     "text": [
      "***** Train_Set *****\n",
      "   PassengerId  Survived  Pclass  \\\n",
      "0            1         0       3   \n",
      "1            2         1       1   \n",
      "2            3         1       3   \n",
      "3            4         1       1   \n",
      "4            5         0       3   \n",
      "\n",
      "                                                Name     Sex   Age  SibSp  \\\n",
      "0                            Braund, Mr. Owen Harris    male  22.0      1   \n",
      "1  Cumings, Mrs. John Bradley (Florence Briggs Th...  female  38.0      1   \n",
      "2                             Heikkinen, Miss. Laina  female  26.0      0   \n",
      "3       Futrelle, Mrs. Jacques Heath (Lily May Peel)  female  35.0      1   \n",
      "4                           Allen, Mr. William Henry    male  35.0      0   \n",
      "\n",
      "   Parch            Ticket     Fare Cabin Embarked  \n",
      "0      0         A/5 21171   7.2500   NaN        S  \n",
      "1      0          PC 17599  71.2833   C85        C  \n",
      "2      0  STON/O2. 3101282   7.9250   NaN        S  \n",
      "3      0            113803  53.1000  C123        S  \n",
      "4      0            373450   8.0500   NaN        S  \n",
      "\n",
      "\n",
      "***** Test_Set *****\n",
      "   PassengerId  Pclass                                          Name     Sex  \\\n",
      "0          892       3                              Kelly, Mr. James    male   \n",
      "1          893       3              Wilkes, Mrs. James (Ellen Needs)  female   \n",
      "2          894       2                     Myles, Mr. Thomas Francis    male   \n",
      "3          895       3                              Wirz, Mr. Albert    male   \n",
      "4          896       3  Hirvonen, Mrs. Alexander (Helga E Lindqvist)  female   \n",
      "\n",
      "    Age  SibSp  Parch   Ticket     Fare Cabin Embarked  \n",
      "0  34.5      0      0   330911   7.8292   NaN        Q  \n",
      "1  47.0      1      0   363272   7.0000   NaN        S  \n",
      "2  62.0      0      0   240276   9.6875   NaN        Q  \n",
      "3  27.0      0      0   315154   8.6625   NaN        S  \n",
      "4  22.0      1      1  3101298  12.2875   NaN        S  \n"
     ]
    }
   ],
   "source": [
    "print(\"***** Train_Set *****\")\n",
    "print(train.head()) \n",
    "print(\"\\n\")\n",
    "print(\"***** Test_Set *****\")\n",
    "print(test.head())"
   ]
  },
  {
   "cell_type": "markdown",
   "id": "5cc9cd69",
   "metadata": {},
   "source": [
    "This seems to give us a big conglomerate of confusion information, so maybe we should start off with the basics: using the describe method:"
   ]
  },
  {
   "cell_type": "code",
   "execution_count": 33,
   "id": "c360458a",
   "metadata": {},
   "outputs": [
    {
     "name": "stdout",
     "output_type": "stream",
     "text": [
      "***** Train_Set *****\n",
      "       PassengerId    Survived      Pclass         Age       SibSp  \\\n",
      "count   891.000000  891.000000  891.000000  714.000000  891.000000   \n",
      "mean    446.000000    0.383838    2.308642   29.699118    0.523008   \n",
      "std     257.353842    0.486592    0.836071   14.526497    1.102743   \n",
      "min       1.000000    0.000000    1.000000    0.420000    0.000000   \n",
      "25%     223.500000    0.000000    2.000000   20.125000    0.000000   \n",
      "50%     446.000000    0.000000    3.000000   28.000000    0.000000   \n",
      "75%     668.500000    1.000000    3.000000   38.000000    1.000000   \n",
      "max     891.000000    1.000000    3.000000   80.000000    8.000000   \n",
      "\n",
      "            Parch        Fare  \n",
      "count  891.000000  891.000000  \n",
      "mean     0.381594   32.204208  \n",
      "std      0.806057   49.693429  \n",
      "min      0.000000    0.000000  \n",
      "25%      0.000000    7.910400  \n",
      "50%      0.000000   14.454200  \n",
      "75%      0.000000   31.000000  \n",
      "max      6.000000  512.329200  \n",
      "\n",
      "\n",
      "***** Test_Set *****\n",
      "       PassengerId      Pclass         Age       SibSp       Parch        Fare\n",
      "count   418.000000  418.000000  332.000000  418.000000  418.000000  417.000000\n",
      "mean   1100.500000    2.265550   30.272590    0.447368    0.392344   35.627188\n",
      "std     120.810458    0.841838   14.181209    0.896760    0.981429   55.907576\n",
      "min     892.000000    1.000000    0.170000    0.000000    0.000000    0.000000\n",
      "25%     996.250000    1.000000   21.000000    0.000000    0.000000    7.895800\n",
      "50%    1100.500000    3.000000   27.000000    0.000000    0.000000   14.454200\n",
      "75%    1204.750000    3.000000   39.000000    1.000000    0.000000   31.500000\n",
      "max    1309.000000    3.000000   76.000000    8.000000    9.000000  512.329200\n"
     ]
    }
   ],
   "source": [
    "print(\"***** Train_Set *****\")\n",
    "print(train.describe())\n",
    "print(\"\\n\")\n",
    "print(\"***** Test_Set *****\")\n",
    "print(test.describe())\n"
   ]
  },
  {
   "cell_type": "markdown",
   "id": "bcd3ce5a",
   "metadata": {},
   "source": [
    "From this step, it becomes more clear that this data is supposed to return a true/false for whether a passenger survived a disaster, depending on multiple features such as ID, class, age, sex, etc. Let's get all of the features:"
   ]
  },
  {
   "cell_type": "code",
   "execution_count": 34,
   "id": "4c62b5d4",
   "metadata": {},
   "outputs": [
    {
     "name": "stdout",
     "output_type": "stream",
     "text": [
      "['PassengerId' 'Survived' 'Pclass' 'Name' 'Sex' 'Age' 'SibSp' 'Parch'\n",
      " 'Ticket' 'Fare' 'Cabin' 'Embarked']\n",
      "<class 'pandas.core.frame.DataFrame'>\n",
      "RangeIndex: 891 entries, 0 to 890\n",
      "Data columns (total 12 columns):\n",
      " #   Column       Non-Null Count  Dtype  \n",
      "---  ------       --------------  -----  \n",
      " 0   PassengerId  891 non-null    int64  \n",
      " 1   Survived     891 non-null    int64  \n",
      " 2   Pclass       891 non-null    int64  \n",
      " 3   Name         891 non-null    object \n",
      " 4   Sex          891 non-null    object \n",
      " 5   Age          714 non-null    float64\n",
      " 6   SibSp        891 non-null    int64  \n",
      " 7   Parch        891 non-null    int64  \n",
      " 8   Ticket       891 non-null    object \n",
      " 9   Fare         891 non-null    float64\n",
      " 10  Cabin        204 non-null    object \n",
      " 11  Embarked     889 non-null    object \n",
      "dtypes: float64(2), int64(5), object(5)\n",
      "memory usage: 83.7+ KB\n"
     ]
    }
   ],
   "source": [
    "print(train.columns.values)\n",
    "train.info()"
   ]
  },
  {
   "cell_type": "markdown",
   "id": "f825f73a",
   "metadata": {},
   "source": [
    "Quick overview of the meaning of all features from https://www.kaggle.com/blurredmachine/titanic-survival-a-complete-guide-for-beginners: \n",
    "\n",
    "\"PassengerId: An unique index for passenger rows. It starts from 1 for first row and increments by 1 for every new rows.\n",
    "Survived: Shows if the passenger survived or not. 1 stands for survived and 0 stands for not survived.\n",
    "\n",
    "Pclass: Ticket class. 1 stands for First class ticket. 2 stands for Second class ticket. 3 stands for Third class ticket.\n",
    "\n",
    "Name: Passenger's name. Name also contain title. \"Mr\" for man. \"Mrs\" for woman. \"Miss\" for girl. \"Master\" for boy.\n",
    "\n",
    "Sex: Passenger's sex. It's either Male or Female.\n",
    "\n",
    "Age: Passenger's age. \"NaN\" values in this column indicates that the age of that particular passenger has not been recorded.\n",
    "\n",
    "SibSp: Number of siblings or spouses travelling with each passenger.\n",
    "\n",
    "Parch: Number of parents of children travelling with each passenger.\n",
    "\n",
    "Ticket: Ticket number.\n",
    "\n",
    "Fare: How much money the passenger has paid for the travel journey.\n",
    "\n",
    "Cabin: Cabin number of the passenger. \"NaN\" values in this column indicates that the cabin number of that particular passenger has not been recorded.\n",
    "\n",
    "Embarked: Port from where the particular passenger was embarked/boarded.\""
   ]
  },
  {
   "cell_type": "markdown",
   "id": "15be7023",
   "metadata": {},
   "source": [
    "Alright, now that we have understood the meanings behind all of the features of the dataset, now let us clean up missing data. "
   ]
  },
  {
   "cell_type": "code",
   "execution_count": 35,
   "id": "474ea0d4",
   "metadata": {},
   "outputs": [
    {
     "data": {
      "text/plain": [
       "(891, 12)"
      ]
     },
     "execution_count": 35,
     "metadata": {},
     "output_type": "execute_result"
    }
   ],
   "source": [
    "train.shape "
   ]
  },
  {
   "cell_type": "markdown",
   "id": "98dadb36",
   "metadata": {},
   "source": [
    "Upon calling train.shape, we see that there are 891 data points representing people, and 12 features. Now let's check for missing data:"
   ]
  },
  {
   "cell_type": "code",
   "execution_count": 36,
   "id": "534ebe14",
   "metadata": {},
   "outputs": [
    {
     "data": {
      "text/plain": [
       "PassengerId      0\n",
       "Survived         0\n",
       "Pclass           0\n",
       "Name             0\n",
       "Sex              0\n",
       "Age            177\n",
       "SibSp            0\n",
       "Parch            0\n",
       "Ticket           0\n",
       "Fare             0\n",
       "Cabin          687\n",
       "Embarked         2\n",
       "dtype: int64"
      ]
     },
     "execution_count": 36,
     "metadata": {},
     "output_type": "execute_result"
    }
   ],
   "source": [
    "train.isnull().sum()"
   ]
  },
  {
   "cell_type": "markdown",
   "id": "e7887c77",
   "metadata": {},
   "source": [
    "There are 177 entries with missing age, 687 with missing cabin, 2 with missing embarkment locations. "
   ]
  },
  {
   "cell_type": "markdown",
   "id": "851cf61f",
   "metadata": {},
   "source": [
    "We can obtain similar information from the test data:\n"
   ]
  },
  {
   "cell_type": "code",
   "execution_count": 21,
   "id": "42718497",
   "metadata": {},
   "outputs": [
    {
     "data": {
      "text/plain": [
       "(418, 11)"
      ]
     },
     "execution_count": 21,
     "metadata": {},
     "output_type": "execute_result"
    }
   ],
   "source": [
    "test.shape"
   ]
  },
  {
   "cell_type": "code",
   "execution_count": 22,
   "id": "a362193c",
   "metadata": {},
   "outputs": [
    {
     "data": {
      "text/plain": [
       "PassengerId      0\n",
       "Pclass           0\n",
       "Name             0\n",
       "Sex              0\n",
       "Age             86\n",
       "SibSp            0\n",
       "Parch            0\n",
       "Ticket           0\n",
       "Fare             1\n",
       "Cabin          327\n",
       "Embarked         0\n",
       "dtype: int64"
      ]
     },
     "execution_count": 22,
     "metadata": {},
     "output_type": "execute_result"
    }
   ],
   "source": [
    "test.isnull().sum()"
   ]
  },
  {
   "cell_type": "markdown",
   "id": "79023d4b",
   "metadata": {},
   "source": [
    "Now, let's take a look at the survival rates of passengers depending on different types of features:"
   ]
  },
  {
   "cell_type": "code",
   "execution_count": 23,
   "id": "90d6249a",
   "metadata": {},
   "outputs": [
    {
     "name": "stdout",
     "output_type": "stream",
     "text": [
      "   Pclass  Survived\n",
      "0       1  0.629630\n",
      "1       2  0.472826\n",
      "2       3  0.242363\n"
     ]
    },
    {
     "data": {
      "image/png": "[encoded data removed]",
      "text/plain": [
       "<Figure size 432x288 with 1 Axes>"
      ]
     },
     "metadata": {
      "needs_background": "light"
     },
     "output_type": "display_data"
    }
   ],
   "source": [
    "pclass_survival = train[['Pclass', 'Survived']].groupby(['Pclass'], as_index=False).mean().sort_values(by='Survived', ascending=False)\n",
    "pclass_survival.plot(kind='bar', subplots=False)\n",
    "print(pclass_survival)"
   ]
  },
  {
   "cell_type": "code",
   "execution_count": 24,
   "id": "7aea7552",
   "metadata": {},
   "outputs": [
    {
     "name": "stdout",
     "output_type": "stream",
     "text": [
      "      Sex  Survived\n",
      "0  female  0.742038\n",
      "1    male  0.188908\n"
     ]
    },
    {
     "data": {
      "image/png": "[encoded data removed]",
      "text/plain": [
       "<Figure size 432x288 with 1 Axes>"
      ]
     },
     "metadata": {
      "needs_background": "light"
     },
     "output_type": "display_data"
    }
   ],
   "source": [
    "sex_survival = train[[\"Sex\", \"Survived\"]].groupby(['Sex'], as_index=False).mean().sort_values(by='Survived', ascending=False)\n",
    "sex_survival.plot(kind='bar', subplots=False)\n",
    "print(sex_survival)"
   ]
  },
  {
   "cell_type": "code",
   "execution_count": 25,
   "id": "3be863af",
   "metadata": {},
   "outputs": [
    {
     "name": "stdout",
     "output_type": "stream",
     "text": [
      "   SibSp  Survived\n",
      "1      1  0.535885\n",
      "2      2  0.464286\n",
      "0      0  0.345395\n",
      "3      3  0.250000\n",
      "4      4  0.166667\n",
      "5      5  0.000000\n",
      "6      8  0.000000\n"
     ]
    },
    {
     "data": {
      "image/png": "[encoded data removed]",
      "text/plain": [
       "<Figure size 432x288 with 1 Axes>"
      ]
     },
     "metadata": {
      "needs_background": "light"
     },
     "output_type": "display_data"
    }
   ],
   "source": [
    "sibsp_survival = train[[\"SibSp\", \"Survived\"]].groupby(['SibSp'], as_index=False).mean().sort_values(by='Survived', ascending=False)\n",
    "sibsp_survival.plot(kind='bar', subplots=False)\n",
    "print(sibsp_survival)"
   ]
  },
  {
   "cell_type": "markdown",
   "id": "4b07dbae",
   "metadata": {},
   "source": [
    "A little bit of storytelling and interpretation here: \n",
    "\n",
    "We can see that clearly, people who were first class had a higher chance of surviving than those of second class and third class. It is interesting because clearly, there were more third class passengers than second class, and more second class than first class, but it seemed that the survival percentage for each class was inversely proportional to how many people were of that class. This does make sense though, because back in 1912, social structures were very rigid, and those of higher class were much more priveleged than those of lower class.\n",
    "\n",
    "We also see that a lot more women survived than men from the data. This again makes sense, as usually during catastrophic events, saving priority usually goes to women and children, which is reflected in this data. \n",
    "\n",
    "Finally, we see that passengers with a large SibSp index (correlated to being part of larger families) had a generally lower chance of survival. This kind of makes sense: it is much harder to save entire large families, so maybe some people opted to die with their families if they were offered to be saved but their family members could not be. "
   ]
  },
  {
   "cell_type": "markdown",
   "id": "97a16b23",
   "metadata": {},
   "source": [
    "Let's take a look at a few more correlations between other features and survival rate. Here is age to death and survival:"
   ]
  },
  {
   "cell_type": "code",
   "execution_count": 26,
   "id": "b0d7fc36",
   "metadata": {},
   "outputs": [
    {
     "data": {
      "text/plain": [
       "<seaborn.axisgrid.FacetGrid at 0x7fabb3558460>"
      ]
     },
     "execution_count": 26,
     "metadata": {},
     "output_type": "execute_result"
    },
    {
     "data": {
      "image/png": "[encoded data removed]",
      "text/plain": [
       "<Figure size 432x216 with 2 Axes>"
      ]
     },
     "metadata": {
      "needs_background": "light"
     },
     "output_type": "display_data"
    }
   ],
   "source": [
    "age_survival = sns.FacetGrid(train, col='Survived')\n",
    "age_survival.map(plt.hist, 'Age', bins=20)"
   ]
  },
  {
   "cell_type": "markdown",
   "id": "92439c24",
   "metadata": {},
   "source": [
    "From this, we see that there were generally more younger people who died, yet also generally more younger people that survived. Among the histogram of those who survived, we see a large spike in the very left, which makes sense as survival priority was probably granted to infants. "
   ]
  },
  {
   "cell_type": "markdown",
   "id": "3f742379",
   "metadata": {},
   "source": [
    "Lastly, let's take a look at correlation:"
   ]
  },
  {
   "cell_type": "code",
   "execution_count": 27,
   "id": "95774c74",
   "metadata": {},
   "outputs": [
    {
     "data": {
      "text/plain": [
       "<AxesSubplot:>"
      ]
     },
     "execution_count": 27,
     "metadata": {},
     "output_type": "execute_result"
    },
    {
     "data": {
      "image/png": "[encoded data removed]",
      "text/plain": [
       "<Figure size 1080x720 with 2 Axes>"
      ]
     },
     "metadata": {
      "needs_background": "light"
     },
     "output_type": "display_data"
    }
   ],
   "source": [
    "plt.figure(figsize=(15,10))\n",
    "sns.heatmap(train.corr(), annot=True)"
   ]
  },
  {
   "cell_type": "markdown",
   "id": "5f9b2da8",
   "metadata": {},
   "source": [
    "From this matrix, we see there is a strong negative correlation between survival rate and lower class, while there is a strong positive correlation between fare (the price one pays for a ticket) and survivability rate.\n",
    "\n",
    "Alas, from all of this data modeling, we learn one thing: the wealth divide back in the 1900s was huge. Class and possession of wealth really made a huge difference, and still does (which brings to attention the issue of the wealth gap in modern society, and its potentially harmful effects). From analyzing all of this data, we can truly better understand the events of what happpened on that unfortunate night in 1912: who was saved and what influenced who was saved. "
   ]
  },
  {
   "cell_type": "markdown",
   "id": "b3e510b3",
   "metadata": {},
   "source": [
    "Now we try to apply $k$-means to split the data points into 2 clusters, to predict whether people survive or not based on the other features. But to do that, we first must drop the non-numerical features:"
   ]
  },
  {
   "cell_type": "code",
   "execution_count": null,
   "id": "3362fc40",
   "metadata": {},
   "outputs": [],
   "source": []
  }
 ],
 "metadata": {
  "kernelspec": {
   "display_name": "Python 3",
   "language": "python",
   "name": "python3"
  },
  "language_info": {
   "codemirror_mode": {
    "name": "ipython",
    "version": 3
   },
   "file_extension": ".py",
   "mimetype": "text/x-python",
   "name": "python",
   "nbconvert_exporter": "python",
   "pygments_lexer": "ipython3",
   "version": "3.8.8"
  }
 },
 "nbformat": 4,
 "nbformat_minor": 5
}
